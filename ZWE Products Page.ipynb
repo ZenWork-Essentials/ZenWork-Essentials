{
 "cells": [
  {
   "cell_type": "code",
   "execution_count": null,
   "metadata": {},
   "outputs": [],
   "source": [
    "<!DOCTYPE html>\n",
    "<html lang=\"en\">\n",
    "<head>\n",
    "    <meta charset=\"UTF-8\">\n",
    "    <meta name=\"viewport\" content=\"width=device-width, initial-scale=1.0\">\n",
    "    <title>ZenWork Essentials - Products</tile>\n",
    "    <link rel=\"stylesheet\" href=\"style.css\">\n",
    "</head>\n",
    "<body>\n",
    "    <header>\n",
    "        <nav>\n",
    "            <ul>\n",
    "                <li><a href=\"index.html\">Home</a></li>\n",
    "                <li><a href=\"about.html\">About</a></li>\n",
    "                <li><a href=\"products.html\">Products</a></li>\n",
    "                <li><a href-\"ambassadors.html\">Ambassadors</a></li>\n",
    "            </ul>\n",
    "        </nav>\n",
    "    </header>\n",
    "\n",
    "    <section class=\"products\">\n",
    "        <h1>Our Products</h1>\n",
    "        <div class=\"product-item\">\n",
    "            <img src=\"images/product1.jpg\" alt=\"Product 1\">\n",
    "            <h2>Product Name 1</h2>\n",
    "            <p>Price: $20</p>\n",
    "            <button>Add to Basket</button>\n",
    "        </div>\n",
    "        <div class=\"product-item\">\n",
    "            <img src=\"images/product2.jpg\" alt=\"Product 2\">\n",
    "            <h2>Product Name 2</h2>\n",
    "            <p>Price: $30</p>\n",
    "            <button>Add to Basket</button>\n",
    "        </div>\n",
    "        <!-- More products -->\n",
    "    </section>\n",
    "\n",
    "    <footer>\n",
    "        <p>&copy; 2024 ZenWork Essentials. All rights reserved.</p>\n",
    "    </footer>\n",
    "</body>\n",
    "</html>"
   ]
  }
 ],
 "metadata": {
  "language_info": {
   "name": "python"
  }
 },
 "nbformat": 4,
 "nbformat_minor": 2
}
