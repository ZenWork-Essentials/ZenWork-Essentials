{
 "cells": [
  {
   "cell_type": "code",
   "execution_count": null,
   "metadata": {},
   "outputs": [],
   "source": [
    "<!DOCTYPE html>\n",
    "<html lang=\"en\">\n",
    "<head>\n",
    "    <meta charset=\"UTF-8\">\n",
    "    <meta name=\"viewport\" content=\"width=device-width, initial-scale=1.0\">\n",
    "    <title>About ZenWork Essentials</title>\n",
    "    <link rel=\"stylesheet\" href=\"style.css\">\n",
    "</head>\n",
    "<body>\n",
    "    <header>\n",
    "        <nav>\n",
    "            <ul>\n",
    "                <li><a href=\"index.html\">Home</a></li>\n",
    "                <li><a href=\"about.html\">About</a></li>\n",
    "                <li><a href=\"products.html\">Products</a></li>\n",
    "                <li><a href=\"ambassadors.html\">Ambassadors</a></li>\n",
    "            </ul>\n",
    "        </nav>\n",
    "    </header>\n",
    "\n",
    "    <section class=\"about\">\n",
    "        <h1>About ZenWork Essentials</h1>\n",
    "        <p>Here at ZenWork Essentials we are dedicated to bringing you the finest holistic products...</p>\n",
    "    </section>\n",
    "\n",
    "    <footer>\n",
    "        <p>&copy; 2024 ZenWork Essentials. All rights reserved.</p>\n",
    "    </footer>\n",
    "</body>\n",
    "</html>"
   ]
  }
 ],
 "metadata": {
  "language_info": {
   "name": "python"
  }
 },
 "nbformat": 4,
 "nbformat_minor": 2
}
