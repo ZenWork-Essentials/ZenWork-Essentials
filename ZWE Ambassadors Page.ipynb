{
 "cells": [
  {
   "cell_type": "code",
   "execution_count": null,
   "metadata": {},
   "outputs": [],
   "source": [
    "<!DOCTYPE html>\n",
    "<html lang=\"en\">\n",
    "<head>\n",
    "    <meta charset=\"UTF-8\">\n",
    "    <meta name=\"viewport\" content=\"width=device-width, initial-scale=1.0\">\n",
    "    <title>ZenWork Essentials - Ambassadors</title>\n",
    "    <link rel=\"stylesheet\" href=\"style.css\">\n",
    "</head>\n",
    "<body>\n",
    "    <header>\n",
    "        <nav>\n",
    "            <ul>\n",
    "                <li><a href=\"index.html\">Home</a></li>\n",
    "                <li><a href=\"ambassadors.html\">Ambassadors</a></li>\n",
    "            </ul>\n",
    "        </nav>\n",
    "    </header>\n",
    "\n",
    "    <section class=\"ambassadors\">\n",
    "        <h1>Join our Ambassador Program</h1>\n",
    "        <p>As an Ambassador, you will receive a special discount & earn profits on every product sold using your unique promo code.</p>\n",
    "        <form action=\"submit_ambassador.html\" method=\"POST\">\n",
    "            <label for=\"name\">Name:</label>\n",
    "            <input type=\"text\" id=\"name\" name=\"name\" required>\n",
    "            <label for=\"email\">Email:</label>\n",
    "            <input type=\"email\" id=\"email\" name=\"email\" required>\n",
    "            <label for=\"promo_code\">Preferred Promo Code:</label>\n",
    "            <input type=\"text\" id=\"promo_code\" name=\"promo_code\" required>\n",
    "            <button type=\"submit\">Sign Up</button>\n",
    "        </form>\n",
    "    </section>\n",
    "\n",
    "    <footer>\n",
    "        <p>&copy; 2024 ZenWork Essentials. All rights reserved.</p>\n",
    "    </footer>\n",
    "</body>\n",
    "</html>"
   ]
  }
 ],
 "metadata": {
  "language_info": {
   "name": "python"
  }
 },
 "nbformat": 4,
 "nbformat_minor": 2
}
