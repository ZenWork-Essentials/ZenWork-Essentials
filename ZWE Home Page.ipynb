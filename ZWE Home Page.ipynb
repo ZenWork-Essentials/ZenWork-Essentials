{
 "cells": [
  {
   "cell_type": "code",
   "execution_count": null,
   "metadata": {},
   "outputs": [],
   "source": [
    "<!DOCTYPE html>\n",
    "<html lang=\"en\">\n",
    "<head>\n",
    "    <meta charset=\"UTF-8\">\n",
    "    <meta name=\"viewport\"\n",
    "content=\"width=device-width, initial-scale=1.0\">\n",
    "    <title>Zenwork Essentials - Home</title>\n",
    "    <link rel=\"stylesheet\" href=\"style.css\">\n",
    "</head>\n",
    "<body>\n",
    "    <header>\n",
    "        <nav>\n",
    "            <ul>\n",
    "                <li><a href=\"index.html\">Home</a></li>\n",
    "                <li><a href=\"about.html\">About</a></li>\n",
    "                <li><a href=\"products.html\">Products</a></li>\n",
    "                <li><a href=\"ambassadors.html\">Ambassadors</a></li>\n",
    "                <li><a href=\"cart.html\">Your Basket</a></li>\n",
    "                <li><a href=\"search.html\">Search</a></li>\n",
    "            </ul>\n",
    "        </nav>\n",
    "    </header>\n",
    "\n",
    "    <section class=\"hero\">\n",
    "        <h1>Welcome to ZenWork Essentials</h1>\n",
    "        <p>Holistic products for your health, wellness, & lifestyle needs.</p>\n",
    "        <a href=\"products.html\" class=\"cta\">Shop Now</a>\n",
    "    </section>\n",
    "\n",
    "    <section class=\"promotions\">\n",
    "        <h2>Art Promotions</h2>\n",
    "        <p>Help fund ZenWork Essentials by purchasing exclusive artwork from our partners.</p>\n",
    "        <a href=\"art-promotions.html\" class=\"cta\">Learn More</a>\n",
    "    </section>\n",
    "\n",
    "    <footer>\n",
    "        <p>&copy; 2024 ZenWork Essentials. All rights reserved. <a href=\"terms.html\">Terms & Conditions</a></p>\n",
    "    </footer>\n",
    "</body>\n",
    "</html>"
   ]
  }
 ],
 "metadata": {
  "language_info": {
   "name": "python"
  }
 },
 "nbformat": 4,
 "nbformat_minor": 2
}
