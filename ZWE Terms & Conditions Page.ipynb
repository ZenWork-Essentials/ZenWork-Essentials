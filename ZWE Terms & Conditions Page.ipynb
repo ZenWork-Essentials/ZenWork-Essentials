{
 "cells": [
  {
   "cell_type": "code",
   "execution_count": null,
   "metadata": {},
   "outputs": [],
   "source": [
    "<!DOCTYPE html>\n",
    "<html lang=\"en\">\n",
    "<head>\n",
    "    <meta charset=\"UTF-8\">\n",
    "    <meta name=\"viewport\" content=\"width=device-width, initial-scale=1.0\">\n",
    "    <title>Terms & Conditions</title>\n",
    "    <link rel=\"stylesheet\" href=\"style.css\">\n",
    "</head>\n",
    "<body>\n",
    "    <header>\n",
    "        <nav>\n",
    "            <ul>\n",
    "                <li><a href=\"index.html\">Home</a></li>\n",
    "                <li><a href=\"terms.html\">Terms & Conditions</a></li>\n",
    "            </ul>\n",
    "        </nav>\n",
    "    </header>\n",
    "\n",
    "    <section class=\"terms\">\n",
    "        <h1>Terms & Conditions</h1>\n",
    "        <p>Please read our terms & conditions carefully...</p>\n",
    "    </section>\n",
    "\n",
    "    <footer>\n",
    "        <p>&copy; 2024 ZenWork Essentials. All rights reserved.</p>\n",
    "    </footer>\n",
    "</body>\n",
    "</html>"
   ]
  }
 ],
 "metadata": {
  "language_info": {
   "name": "python"
  }
 },
 "nbformat": 4,
 "nbformat_minor": 2
}
